{
 "cells": [
  {
   "cell_type": "code",
   "execution_count": 84,
   "metadata": {},
   "outputs": [],
   "source": [
    "import requests\n",
    "import pandas as pd\n",
    "from sqlalchemy import create_engine\n",
    "from pathlib import Path\n",
    "from google.cloud import bigquery"
   ]
  },
  {
   "attachments": {},
   "cell_type": "markdown",
   "metadata": {},
   "source": [
    "<b> Fetch player data from Riot API <b>"
   ]
  },
  {
   "cell_type": "code",
   "execution_count": 51,
   "metadata": {},
   "outputs": [],
   "source": [
    "regions = [\"BR1\", \"VN2\", \"KR\"]\n",
    "queue = \"RANKED_SOLO_5x5\"\n",
    "total_users = []\n",
    "request_urls = []\n",
    "\n",
    "api_key = \"RGAPI-51d9ac2f-fbaa-4d6e-a378-b645b77d20fa\"\n",
    "\n",
    "headers = {\n",
    "    \"User-Agent\": \"Mozilla/5.0 (Windows NT 10.0; Win64; x64) AppleWebKit/537.36 (KHTML, like Gecko) Chrome/114.0.0.0 Safari/537.36\",\n",
    "    \"Accept-Language\": \"vi-VN,vi;q=0.9,en-US;q=0.8,en;q=0.7\",\n",
    "    \"Accept-Charset\": \"application/x-www-form-urlencoded; charset=UTF-8\",\n",
    "    \"Origin\": \"https://developer.riotgames.com\",\n",
    "    \"X-Riot-Token\": api_key\n",
    "}\n"
   ]
  },
  {
   "cell_type": "code",
   "execution_count": 52,
   "metadata": {},
   "outputs": [],
   "source": [
    "for region in regions:\n",
    "    challenger_url = 'https://{}.api.riotgames.com/lol/league/v4/challengerleagues/by-queue/{}'.format(region,queue)\n",
    "    grandmaster_url = 'https://{}.api.riotgames.com/lol/league/v4/grandmasterleagues/by-queue/{}'.format(region,queue)\n",
    "    #master_url = 'https://{}.api.riotgames.com/lol/league/v4/masterleagues/by-queue/{}'.format(region,queue)\n",
    "    \n",
    "    request_urls.append(challenger_url)\n",
    "    request_urls.append(grandmaster_url)\n",
    "    #request_urls.append(master_url)"
   ]
  },
  {
   "cell_type": "code",
   "execution_count": 53,
   "metadata": {},
   "outputs": [
    {
     "name": "stdout",
     "output_type": "stream",
     "text": [
      "Region: BR1, Tier: CHALLENGER, Queue: RANKED_SOLO_5x5, Total Players: 200\n",
      "Region: BR1, Tier: GRANDMASTER, Queue: RANKED_SOLO_5x5, Total Players: 500\n",
      "Region: VN2, Tier: CHALLENGER, Queue: RANKED_SOLO_5x5, Total Players: 300\n",
      "Region: VN2, Tier: GRANDMASTER, Queue: RANKED_SOLO_5x5, Total Players: 700\n",
      "Region: KR, Tier: CHALLENGER, Queue: RANKED_SOLO_5x5, Total Players: 300\n",
      "Region: KR, Tier: GRANDMASTER, Queue: RANKED_SOLO_5x5, Total Players: 700\n"
     ]
    }
   ],
   "source": [
    "for x in request_urls:\n",
    "    temp_a = x.replace('//', '.')\n",
    "    temp_b = temp_a.split(\".\")\n",
    "    region = temp_b[1]\n",
    "    response = requests.get(x, headers=headers)\n",
    "        \n",
    "    if response.status_code == 200:\n",
    "        print(f\"Region: {region}, Tier: {response.json()['tier']}, Queue: {response.json()['queue']}, Total Players: {len(response.json()['entries'])}\")\n",
    "\n",
    "        for y in response.json()['entries']:\n",
    "            y['tier'] = response.json()['tier']\n",
    "            y['request_region'] = region\n",
    "            y['queue'] = queue\n",
    "            total_users.append(y)\n",
    "    else:\n",
    "        print(f\"'Request error, response code: {response.status_code}\")"
   ]
  },
  {
   "cell_type": "code",
   "execution_count": 54,
   "metadata": {},
   "outputs": [
    {
     "name": "stdout",
     "output_type": "stream",
     "text": [
      "2700\n"
     ]
    }
   ],
   "source": [
    "print(len(total_users))"
   ]
  },
  {
   "cell_type": "code",
   "execution_count": 56,
   "metadata": {},
   "outputs": [
    {
     "data": {
      "text/plain": [
       "{'summonerId': 'vbPSm9gW0VTclg9zPLWqNGHilUfa9c8Ogu45mSEKIMWy7oo',\n",
       " 'summonerName': 'Fuuu',\n",
       " 'leaguePoints': 1147,\n",
       " 'rank': 'I',\n",
       " 'wins': 170,\n",
       " 'losses': 133,\n",
       " 'veteran': False,\n",
       " 'inactive': False,\n",
       " 'freshBlood': False,\n",
       " 'hotStreak': False,\n",
       " 'tier': 'CHALLENGER',\n",
       " 'request_region': 'BR1',\n",
       " 'queue': 'RANKED_SOLO_5x5'}"
      ]
     },
     "execution_count": 56,
     "metadata": {},
     "output_type": "execute_result"
    }
   ],
   "source": [
    "total_users[0]"
   ]
  },
  {
   "attachments": {},
   "cell_type": "markdown",
   "metadata": {},
   "source": [
    "<b> Convert data to DataFrame <b>"
   ]
  },
  {
   "cell_type": "code",
   "execution_count": 85,
   "metadata": {},
   "outputs": [
    {
     "data": {
      "text/html": [
       "<div>\n",
       "<style scoped>\n",
       "    .dataframe tbody tr th:only-of-type {\n",
       "        vertical-align: middle;\n",
       "    }\n",
       "\n",
       "    .dataframe tbody tr th {\n",
       "        vertical-align: top;\n",
       "    }\n",
       "\n",
       "    .dataframe thead th {\n",
       "        text-align: right;\n",
       "    }\n",
       "</style>\n",
       "<table border=\"1\" class=\"dataframe\">\n",
       "  <thead>\n",
       "    <tr style=\"text-align: right;\">\n",
       "      <th></th>\n",
       "      <th>summonerId</th>\n",
       "      <th>summonerName</th>\n",
       "      <th>leaguePoints</th>\n",
       "      <th>rank</th>\n",
       "      <th>wins</th>\n",
       "      <th>losses</th>\n",
       "      <th>veteran</th>\n",
       "      <th>inactive</th>\n",
       "      <th>freshBlood</th>\n",
       "      <th>hotStreak</th>\n",
       "      <th>tier</th>\n",
       "      <th>request_region</th>\n",
       "      <th>queue</th>\n",
       "    </tr>\n",
       "  </thead>\n",
       "  <tbody>\n",
       "    <tr>\n",
       "      <th>0</th>\n",
       "      <td>vbPSm9gW0VTclg9zPLWqNGHilUfa9c8Ogu45mSEKIMWy7oo</td>\n",
       "      <td>Fuuu</td>\n",
       "      <td>1147</td>\n",
       "      <td>I</td>\n",
       "      <td>170</td>\n",
       "      <td>133</td>\n",
       "      <td>False</td>\n",
       "      <td>False</td>\n",
       "      <td>False</td>\n",
       "      <td>False</td>\n",
       "      <td>CHALLENGER</td>\n",
       "      <td>BR1</td>\n",
       "      <td>RANKED_SOLO_5x5</td>\n",
       "    </tr>\n",
       "    <tr>\n",
       "      <th>1</th>\n",
       "      <td>URWMt8chEwazuh6xIkltkGK7Qt4QkZ5dY3iL_O3l3zzxOg</td>\n",
       "      <td>twitch nicklink</td>\n",
       "      <td>1990</td>\n",
       "      <td>I</td>\n",
       "      <td>307</td>\n",
       "      <td>215</td>\n",
       "      <td>True</td>\n",
       "      <td>False</td>\n",
       "      <td>False</td>\n",
       "      <td>False</td>\n",
       "      <td>CHALLENGER</td>\n",
       "      <td>BR1</td>\n",
       "      <td>RANKED_SOLO_5x5</td>\n",
       "    </tr>\n",
       "    <tr>\n",
       "      <th>2</th>\n",
       "      <td>F2h3GIj9_N8bo7sCyo7oA90c0GRoeHnLz14L-Fq2G7ew8g</td>\n",
       "      <td>angustia33</td>\n",
       "      <td>1105</td>\n",
       "      <td>I</td>\n",
       "      <td>112</td>\n",
       "      <td>77</td>\n",
       "      <td>False</td>\n",
       "      <td>False</td>\n",
       "      <td>False</td>\n",
       "      <td>False</td>\n",
       "      <td>CHALLENGER</td>\n",
       "      <td>BR1</td>\n",
       "      <td>RANKED_SOLO_5x5</td>\n",
       "    </tr>\n",
       "    <tr>\n",
       "      <th>3</th>\n",
       "      <td>jYvbPWSRoOzD-yyUEKHYBLah3i7Hx7iQEZB-aS7PhxddtC8</td>\n",
       "      <td>PontoDoiss</td>\n",
       "      <td>1048</td>\n",
       "      <td>I</td>\n",
       "      <td>207</td>\n",
       "      <td>170</td>\n",
       "      <td>False</td>\n",
       "      <td>False</td>\n",
       "      <td>False</td>\n",
       "      <td>True</td>\n",
       "      <td>CHALLENGER</td>\n",
       "      <td>BR1</td>\n",
       "      <td>RANKED_SOLO_5x5</td>\n",
       "    </tr>\n",
       "    <tr>\n",
       "      <th>4</th>\n",
       "      <td>DrrPUZThWxVNMprgnzAy2DQhHKAR50-kgU1XLCNN3uYMxK0</td>\n",
       "      <td>kimoyi</td>\n",
       "      <td>1129</td>\n",
       "      <td>I</td>\n",
       "      <td>80</td>\n",
       "      <td>41</td>\n",
       "      <td>False</td>\n",
       "      <td>False</td>\n",
       "      <td>True</td>\n",
       "      <td>False</td>\n",
       "      <td>CHALLENGER</td>\n",
       "      <td>BR1</td>\n",
       "      <td>RANKED_SOLO_5x5</td>\n",
       "    </tr>\n",
       "  </tbody>\n",
       "</table>\n",
       "</div>"
      ],
      "text/plain": [
       "                                        summonerId     summonerName   \n",
       "0  vbPSm9gW0VTclg9zPLWqNGHilUfa9c8Ogu45mSEKIMWy7oo             Fuuu  \\\n",
       "1   URWMt8chEwazuh6xIkltkGK7Qt4QkZ5dY3iL_O3l3zzxOg  twitch nicklink   \n",
       "2   F2h3GIj9_N8bo7sCyo7oA90c0GRoeHnLz14L-Fq2G7ew8g       angustia33   \n",
       "3  jYvbPWSRoOzD-yyUEKHYBLah3i7Hx7iQEZB-aS7PhxddtC8       PontoDoiss   \n",
       "4  DrrPUZThWxVNMprgnzAy2DQhHKAR50-kgU1XLCNN3uYMxK0           kimoyi   \n",
       "\n",
       "   leaguePoints rank  wins  losses  veteran  inactive  freshBlood  hotStreak   \n",
       "0          1147    I   170     133    False     False       False      False  \\\n",
       "1          1990    I   307     215     True     False       False      False   \n",
       "2          1105    I   112      77    False     False       False      False   \n",
       "3          1048    I   207     170    False     False       False       True   \n",
       "4          1129    I    80      41    False     False        True      False   \n",
       "\n",
       "         tier request_region            queue  \n",
       "0  CHALLENGER            BR1  RANKED_SOLO_5x5  \n",
       "1  CHALLENGER            BR1  RANKED_SOLO_5x5  \n",
       "2  CHALLENGER            BR1  RANKED_SOLO_5x5  \n",
       "3  CHALLENGER            BR1  RANKED_SOLO_5x5  \n",
       "4  CHALLENGER            BR1  RANKED_SOLO_5x5  "
      ]
     },
     "execution_count": 85,
     "metadata": {},
     "output_type": "execute_result"
    }
   ],
   "source": [
    "df = pd.DataFrame(total_users)\n",
    "df.head()"
   ]
  },
  {
   "cell_type": "code",
   "execution_count": 58,
   "metadata": {},
   "outputs": [
    {
     "data": {
      "text/plain": [
       "(2700, 13)"
      ]
     },
     "execution_count": 58,
     "metadata": {},
     "output_type": "execute_result"
    }
   ],
   "source": [
    "df.shape"
   ]
  },
  {
   "cell_type": "code",
   "execution_count": 86,
   "metadata": {},
   "outputs": [],
   "source": [
    "df2 = df.dropna()"
   ]
  },
  {
   "cell_type": "code",
   "execution_count": 60,
   "metadata": {},
   "outputs": [
    {
     "data": {
      "text/plain": [
       "(2700, 13)"
      ]
     },
     "execution_count": 60,
     "metadata": {},
     "output_type": "execute_result"
    }
   ],
   "source": [
    "df2.shape"
   ]
  },
  {
   "attachments": {},
   "cell_type": "markdown",
   "metadata": {},
   "source": [
    "<b> Loading data to MySQL <b>"
   ]
  },
  {
   "cell_type": "code",
   "execution_count": 61,
   "metadata": {},
   "outputs": [
    {
     "data": {
      "text/plain": [
       "<sqlalchemy.engine.base.Connection at 0x2210cf28610>"
      ]
     },
     "execution_count": 61,
     "metadata": {},
     "output_type": "execute_result"
    }
   ],
   "source": [
    "engine = create_engine('mysql+mysqlconnector://root:@localhost:3306/world')\n",
    "engine.connect()"
   ]
  },
  {
   "cell_type": "code",
   "execution_count": 63,
   "metadata": {},
   "outputs": [
    {
     "name": "stdout",
     "output_type": "stream",
     "text": [
      "\n",
      "CREATE TABLE `league-v4-2.0` (\n",
      "\t`summonerId` TEXT, \n",
      "\t`summonerName` TEXT, \n",
      "\t`leaguePoints` BIGINT, \n",
      "\t`rank` TEXT, \n",
      "\twins BIGINT, \n",
      "\tlosses BIGINT, \n",
      "\tveteran BOOL, \n",
      "\tinactive BOOL, \n",
      "\t`freshBlood` BOOL, \n",
      "\t`hotStreak` BOOL, \n",
      "\ttier TEXT, \n",
      "\trequest_region TEXT, \n",
      "\tqueue TEXT\n",
      ")\n",
      "\n",
      "\n"
     ]
    }
   ],
   "source": [
    "# create table in schema\n",
    "print(pd.io.sql.get_schema(df2, name='league-v4-2.0', con=engine))"
   ]
  },
  {
   "cell_type": "code",
   "execution_count": 64,
   "metadata": {},
   "outputs": [
    {
     "name": "stdout",
     "output_type": "stream",
     "text": [
      "CPU times: total: 109 ms\n",
      "Wall time: 398 ms\n"
     ]
    },
    {
     "data": {
      "text/plain": [
       "-1"
      ]
     },
     "execution_count": 64,
     "metadata": {},
     "output_type": "execute_result"
    }
   ],
   "source": [
    "%time df2.to_sql(name='league-v4-2.0', con=engine, if_exists='replace')"
   ]
  },
  {
   "cell_type": "code",
   "execution_count": 93,
   "metadata": {},
   "outputs": [],
   "source": [
    "filepath = Path('dataset/out.csv')  \n",
    "filepath.parent.mkdir(parents=True, exist_ok=True)  \n",
    "df2.to_csv(filepath)  "
   ]
  },
  {
   "cell_type": "code",
   "execution_count": 87,
   "metadata": {},
   "outputs": [],
   "source": [
    "# Construct a BigQuery client object.\n",
    "client = bigquery.Client()"
   ]
  },
  {
   "cell_type": "code",
   "execution_count": 88,
   "metadata": {},
   "outputs": [],
   "source": [
    "job_config = bigquery.LoadJobConfig(\n",
    "    schema=[\n",
    "        bigquery.SchemaField(\"summonerID\", \"STRING\"),\n",
    "        bigquery.SchemaField(\"summonerName\", \"STRING\"),\n",
    "        bigquery.SchemaField(\"leaguePoints\", \"INTEGER\"),\n",
    "        bigquery.SchemaField(\"rank\", \"STRING\"),\n",
    "        bigquery.SchemaField(\"wins\", \"INTEGER\"),\n",
    "        bigquery.SchemaField(\"losses\", \"INTEGER\"),\n",
    "        bigquery.SchemaField(\"veteran\", \"BOOLEAN\"),\n",
    "        bigquery.SchemaField(\"inactive\", \"BOOLEAN\"),\n",
    "        bigquery.SchemaField(\"freshBlood\", \"BOOLEAN\"),\n",
    "        bigquery.SchemaField(\"hotStreak\", \"BOOLEAN\"),\n",
    "        bigquery.SchemaField(\"tier\", \"STRING\"),\n",
    "        bigquery.SchemaField(\"request_region\", \"STRING\"),\n",
    "        bigquery.SchemaField(\"queue\", \"STRING\")\n",
    "    ], \n",
    "    write_disposition=\"WRITE_TRUNCATE\",\n",
    ")\n",
    "#WRITE_TRUNCATE write disposition it replaces the table with the loaded data."
   ]
  },
  {
   "cell_type": "code",
   "execution_count": 92,
   "metadata": {},
   "outputs": [],
   "source": [
    "table_id = \"northern-union-373114.trips_data_all.league-v4-2.0\"\n",
    "job = client.load_table_from_dataframe(\n",
    "    df2, table_id, job_config=job_config\n",
    ")  # Make an API request.\n",
    "job.result()  # Wait for the job to complete."
   ]
  }
 ],
 "metadata": {
  "kernelspec": {
   "display_name": "Python 3",
   "language": "python",
   "name": "python3"
  },
  "language_info": {
   "codemirror_mode": {
    "name": "ipython",
    "version": 3
   },
   "file_extension": ".py",
   "mimetype": "text/x-python",
   "name": "python",
   "nbconvert_exporter": "python",
   "pygments_lexer": "ipython3",
   "version": "3.10.11"
  },
  "orig_nbformat": 4
 },
 "nbformat": 4,
 "nbformat_minor": 2
}
